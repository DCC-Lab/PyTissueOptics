{
 "cells": [
  {
   "cell_type": "markdown",
   "metadata": {},
   "source": [
    "# Numba example"
   ]
  },
  {
   "cell_type": "code",
   "execution_count": 4,
   "metadata": {},
   "outputs": [
    {
     "data": {
      "text/plain": [
       "3.13928"
      ]
     },
     "execution_count": 4,
     "metadata": {},
     "output_type": "execute_result"
    }
   ],
   "source": [
    "from numba import njit, jit\n",
    "import numba.cuda as cuda\n",
    "import random\n",
    "\n",
    "\n",
    "points = 100000\n",
    "\n",
    "def pi(npoints):\n",
    "    n_in_circle = 0\n",
    "    for i in range(npoints):\n",
    "        x = random.random()\n",
    "        y = random.random()\n",
    "        if (x**2+y**2 < 1):\n",
    "            n_in_circle += 1\n",
    "    return 4*n_in_circle / npoints\n",
    "\n",
    "pi(points)"
   ]
  },
  {
   "cell_type": "code",
   "execution_count": 2,
   "metadata": {},
   "outputs": [
    {
     "data": {
      "text/plain": [
       "3.1425048"
      ]
     },
     "execution_count": 2,
     "metadata": {},
     "output_type": "execute_result"
    }
   ],
   "source": [
    "import random\n",
    "from numba import njit\n",
    "@njit # or @jit(nopython=True)\n",
    "def fast_pi(npoints):\n",
    "    n_in_circle = 0\n",
    "    for i in range(npoints):\n",
    "        x = random.random()\n",
    "        y = random.random()\n",
    "        if (x**2+y**2 < 1):\n",
    "            n_in_circle += 1\n",
    "    return 4*n_in_circle / npoints\n",
    "\n",
    "fast_pi(points)"
   ]
  },
  {
   "cell_type": "markdown",
   "metadata": {},
   "source": [
    "%timeit permet de vérifier le temps que prend une fonction en effectuant plusieurs fois la fonction. Loop=nombre de fois que la fonction est lancée pour chaque run. Run=recommencement du test"
   ]
  },
  {
   "cell_type": "code",
   "execution_count": 5,
   "metadata": {},
   "outputs": [
    {
     "name": "stdout",
     "output_type": "stream",
     "text": [
      "101 ms ± 2.88 ms per loop (mean ± std. dev. of 7 runs, 10 loops each)\n"
     ]
    }
   ],
   "source": [
    "%timeit pi(points)"
   ]
  },
  {
   "cell_type": "code",
   "execution_count": 6,
   "metadata": {},
   "outputs": [
    {
     "name": "stdout",
     "output_type": "stream",
     "text": [
      "2.19 ms ± 194 µs per loop (mean ± std. dev. of 7 runs, 100 loops each)\n"
     ]
    }
   ],
   "source": [
    "%timeit fast_pi(points)"
   ]
  },
  {
   "cell_type": "code",
   "execution_count": null,
   "metadata": {},
   "outputs": [],
   "source": [
    "# @cuda.jit\n",
    "# def very_fast_pi(npoints):\n",
    "#     n_in_circle = 0\n",
    "#     for i in range(npoints):\n",
    "#         x = random.random()\n",
    "#         y = random.random()\n",
    "#         if (x**2+y**2 < 1):\n",
    "#             n_in_circle += 1\n",
    "#     return 4*n_in_circle / npoints\n"
   ]
  },
  {
   "cell_type": "markdown",
   "metadata": {},
   "source": [
    "Unfortunately a naive @cuda.jit decorator doesn't work. When you want to use this decorator, you have to write a kernel, which looks like C++ (but is not!). So, Numba is not a drop-in replcaement for GPU calculation, but an excellent CPU optimizer and I recommend using the @njit decorator each time you have a code that has\n",
    "- loops\n",
    "- matrice itteration\n",
    "- matrice conditions\n",
    "- numpy arrays\n",
    "- "
   ]
  },
  {
   "cell_type": "markdown",
   "metadata": {},
   "source": [
    "# Cupy example"
   ]
  },
  {
   "cell_type": "code",
   "execution_count": null,
   "metadata": {},
   "outputs": [],
   "source": [
    "import numpy as np\n",
    "\n",
    "points = 1000000\n",
    "\n",
    "def numpy_pi(npoints):\n",
    "    count = 0\n",
    "    xy = np.random.rand(2, npoints)\n",
    "    for i in range(len(xy[0])):\n",
    "        if (xy[0, i]**2 + xy[1, i]**2) < 1:\n",
    "            count += 1\n",
    "    return 4*count/npoints\n",
    "\n",
    "numpy_pi(points)\n"
   ]
  },
  {
   "cell_type": "code",
   "execution_count": null,
   "metadata": {},
   "outputs": [],
   "source": [
    "numpy_pi(points)"
   ]
  },
  {
   "cell_type": "code",
   "execution_count": null,
   "metadata": {},
   "outputs": [],
   "source": [
    "import cupy as cp\n",
    "\n",
    "points = 1000000\n",
    "\n",
    "def cupy_pi(npoints):\n",
    "    count = 0\n",
    "    xy = cp.random.rand(2, npoints)\n",
    "    for i in range(len(xy[0])):\n",
    "        if (xy[0, i]**2 + xy[1, i]**2) < 1:\n",
    "            count += 1\n",
    "    return 4*count/npoints\n",
    "\n",
    "cupy_pi(points)"
   ]
  },
  {
   "cell_type": "code",
   "execution_count": null,
   "metadata": {},
   "outputs": [],
   "source": [
    "cupy_pi(points)"
   ]
  },
  {
   "cell_type": "markdown",
   "metadata": {},
   "source": [
    "# Cupy in the real world\n",
    "\n",
    "Here's a function that we use in PyTissueOptics for the photons diffusion simulator"
   ]
  },
  {
   "cell_type": "code",
   "execution_count": 32,
   "metadata": {},
   "outputs": [],
   "source": [
    "import numpy as np\n",
    "import cupy as cp\n",
    "\n",
    "def randomUniformUnitary(N):\n",
    "    theta = np.random.rand(N) * 2 * np.pi\n",
    "    phi = np.random.rand(N) * np.pi\n",
    "    x = np.sin(phi)*np.cos(theta)\n",
    "    y = np.sin(phi)*np.sin(theta)\n",
    "    z = np.cos(phi)\n",
    "    output = np.stack((x, y, z), axis=-1)\n",
    "#     print(\"done\")\n",
    "\n",
    "def randomUniformUnitaryCupy(N):\n",
    "    theta = cp.random.rand(N) * 2 * cp.pi\n",
    "    phi = cp.random.rand(N) * cp.pi\n",
    "    x = cp.sin(phi)*cp.cos(theta)\n",
    "    y = cp.sin(phi)*cp.sin(theta)\n",
    "    z = cp.cos(phi)\n",
    "    output = cp.stack((x, y, z), axis=-1)\n",
    "#     print(\"done\")\n",
    "    \n",
    "points = int(1e5)"
   ]
  },
  {
   "cell_type": "code",
   "execution_count": 33,
   "metadata": {},
   "outputs": [],
   "source": [
    "randomUniformUnitary(points)"
   ]
  },
  {
   "cell_type": "code",
   "execution_count": 34,
   "metadata": {},
   "outputs": [],
   "source": [
    "randomUniformUnitaryCupy(points)"
   ]
  },
  {
   "cell_type": "code",
   "execution_count": 42,
   "metadata": {},
   "outputs": [],
   "source": [
    "import time\n",
    "def batches_numpy():\n",
    "    a = time.time_ns()\n",
    "    batches = 1000\n",
    "    for i in range(batches):\n",
    "        randomUniformUnitary(points)\n",
    "    b = time.time_ns()\n",
    "    print(\"numpy {} batches of {}: {}ms total\".format(batches, points, int(b-a)/1000000))\n",
    "\n",
    "def batches_cupy():\n",
    "    a = time.time_ns()\n",
    "    batches = 100000\n",
    "    for i in range(batches):\n",
    "        randomUniformUnitaryCupy(points)\n",
    "    b = time.time_ns()\n",
    "    print(\"cupy {} batches of {}: {}ms total\".format(batches, points, int(b-a)/1000000))"
   ]
  },
  {
   "cell_type": "code",
   "execution_count": 40,
   "metadata": {},
   "outputs": [
    {
     "name": "stdout",
     "output_type": "stream",
     "text": [
      "numpy 1000 batches of 100000: 12234.0015ms total\n"
     ]
    }
   ],
   "source": [
    "batches_numpy()"
   ]
  },
  {
   "cell_type": "code",
   "execution_count": 43,
   "metadata": {},
   "outputs": [
    {
     "name": "stdout",
     "output_type": "stream",
     "text": [
      "cupy 100000 batches of 100000: 47122.0052ms total\n"
     ]
    }
   ],
   "source": [
    "batches_cupy()"
   ]
  },
  {
   "cell_type": "code",
   "execution_count": null,
   "metadata": {},
   "outputs": [],
   "source": []
  },
  {
   "cell_type": "code",
   "execution_count": null,
   "metadata": {},
   "outputs": [],
   "source": []
  }
 ],
 "metadata": {
  "kernelspec": {
   "display_name": "Python 3",
   "language": "python",
   "name": "python3"
  },
  "language_info": {
   "codemirror_mode": {
    "name": "ipython",
    "version": 3
   },
   "file_extension": ".py",
   "mimetype": "text/x-python",
   "name": "python",
   "nbconvert_exporter": "python",
   "pygments_lexer": "ipython3",
   "version": "3.7.8"
  }
 },
 "nbformat": 4,
 "nbformat_minor": 4
}
